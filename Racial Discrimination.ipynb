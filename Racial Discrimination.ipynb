{
 "cells": [
  {
   "cell_type": "markdown",
   "metadata": {},
   "source": [
    "# Examining Racial Discrimination in the US Job Market\n",
    "\n",
    "### Background\n",
    "Racial discrimination continues to be pervasive in cultures throughout the world. Researchers examined the level of racial discrimination in the United States labor market by randomly assigning identical résumés to black-sounding or white-sounding names and observing the impact on requests for interviews from employers.\n",
    "\n",
    "### Data\n",
    "In the dataset provided, each row represents a resume. The 'race' column has two values, 'b' and 'w', indicating black-sounding and white-sounding. The column 'call' has two values, 1 and 0, indicating whether the resume received a call from employers or not.\n",
    "\n",
    "Note that the 'b' and 'w' values in race are assigned randomly to the resumes when presented to the employer."
   ]
  },
  {
   "cell_type": "markdown",
   "metadata": {},
   "source": [
    "<div class=\"span5 alert alert-info\">\n",
    "### Exercises\n",
    "You will perform a statistical analysis to establish whether race has a significant impact on the rate of callbacks for resumes.\n",
    "\n",
    "Answer the following questions **in this notebook below and submit to your Github account**. \n",
    "\n",
    "   1. What test is appropriate for this problem? Does CLT apply?\n",
    "   2. What are the null and alternate hypotheses?\n",
    "   3. Compute margin of error, confidence interval, and p-value. Try using both the bootstrapping and the frequentist statistical approaches.\n",
    "   4. Write a story describing the statistical significance in the context or the original problem.\n",
    "   5. Does your analysis mean that race/name is the most important factor in callback success? Why or why not? If not, how would you amend your analysis?\n",
    "\n",
    "You can include written notes in notebook cells using Markdown: \n",
    "   - In the control panel at the top, choose Cell > Cell Type > Markdown\n",
    "   - Markdown syntax: http://nestacms.com/docs/creating-content/markdown-cheat-sheet\n",
    "\n",
    "\n",
    "#### Resources\n",
    "+ Experiment information and data source: http://www.povertyactionlab.org/evaluation/discrimination-job-market-united-states\n",
    "+ Scipy statistical methods: http://docs.scipy.org/doc/scipy/reference/stats.html \n",
    "+ Markdown syntax: http://nestacms.com/docs/creating-content/markdown-cheat-sheet\n",
    "+ Formulas for the Bernoulli distribution: https://en.wikipedia.org/wiki/Bernoulli_distribution\n",
    "</div>\n",
    "****"
   ]
  },
  {
   "cell_type": "code",
   "execution_count": 4,
   "metadata": {},
   "outputs": [],
   "source": [
    "import pandas as pd\n",
    "import numpy as np\n",
    "from scipy import stats"
   ]
  },
  {
   "cell_type": "code",
   "execution_count": 5,
   "metadata": {},
   "outputs": [],
   "source": [
    "data = pd.io.stata.read_stata('data/us_job_market_discrimination.dta')"
   ]
  },
  {
   "cell_type": "code",
   "execution_count": 34,
   "metadata": {},
   "outputs": [
    {
     "data": {
      "text/plain": [
       "4870"
      ]
     },
     "execution_count": 34,
     "metadata": {},
     "output_type": "execute_result"
    }
   ],
   "source": [
    "# number of callbacks for black-sounding names\n",
    "len(data)\n",
    "# sum(data[data.race=='w'].call)"
   ]
  },
  {
   "cell_type": "code",
   "execution_count": 7,
   "metadata": {
    "collapsed": true
   },
   "outputs": [
    {
     "data": {
      "text/html": [
       "<div>\n",
       "<style scoped>\n",
       "    .dataframe tbody tr th:only-of-type {\n",
       "        vertical-align: middle;\n",
       "    }\n",
       "\n",
       "    .dataframe tbody tr th {\n",
       "        vertical-align: top;\n",
       "    }\n",
       "\n",
       "    .dataframe thead th {\n",
       "        text-align: right;\n",
       "    }\n",
       "</style>\n",
       "<table border=\"1\" class=\"dataframe\">\n",
       "  <thead>\n",
       "    <tr style=\"text-align: right;\">\n",
       "      <th></th>\n",
       "      <th>id</th>\n",
       "      <th>ad</th>\n",
       "      <th>education</th>\n",
       "      <th>ofjobs</th>\n",
       "      <th>yearsexp</th>\n",
       "      <th>honors</th>\n",
       "      <th>volunteer</th>\n",
       "      <th>military</th>\n",
       "      <th>empholes</th>\n",
       "      <th>occupspecific</th>\n",
       "      <th>...</th>\n",
       "      <th>compreq</th>\n",
       "      <th>orgreq</th>\n",
       "      <th>manuf</th>\n",
       "      <th>transcom</th>\n",
       "      <th>bankreal</th>\n",
       "      <th>trade</th>\n",
       "      <th>busservice</th>\n",
       "      <th>othservice</th>\n",
       "      <th>missind</th>\n",
       "      <th>ownership</th>\n",
       "    </tr>\n",
       "  </thead>\n",
       "  <tbody>\n",
       "    <tr>\n",
       "      <th>0</th>\n",
       "      <td>b</td>\n",
       "      <td>1</td>\n",
       "      <td>4</td>\n",
       "      <td>2</td>\n",
       "      <td>6</td>\n",
       "      <td>0</td>\n",
       "      <td>0</td>\n",
       "      <td>0</td>\n",
       "      <td>1</td>\n",
       "      <td>17</td>\n",
       "      <td>...</td>\n",
       "      <td>1.0</td>\n",
       "      <td>0.0</td>\n",
       "      <td>1.0</td>\n",
       "      <td>0.0</td>\n",
       "      <td>0.0</td>\n",
       "      <td>0.0</td>\n",
       "      <td>0.0</td>\n",
       "      <td>0.0</td>\n",
       "      <td>0.0</td>\n",
       "      <td></td>\n",
       "    </tr>\n",
       "    <tr>\n",
       "      <th>1</th>\n",
       "      <td>b</td>\n",
       "      <td>1</td>\n",
       "      <td>3</td>\n",
       "      <td>3</td>\n",
       "      <td>6</td>\n",
       "      <td>0</td>\n",
       "      <td>1</td>\n",
       "      <td>1</td>\n",
       "      <td>0</td>\n",
       "      <td>316</td>\n",
       "      <td>...</td>\n",
       "      <td>1.0</td>\n",
       "      <td>0.0</td>\n",
       "      <td>1.0</td>\n",
       "      <td>0.0</td>\n",
       "      <td>0.0</td>\n",
       "      <td>0.0</td>\n",
       "      <td>0.0</td>\n",
       "      <td>0.0</td>\n",
       "      <td>0.0</td>\n",
       "      <td></td>\n",
       "    </tr>\n",
       "    <tr>\n",
       "      <th>2</th>\n",
       "      <td>b</td>\n",
       "      <td>1</td>\n",
       "      <td>4</td>\n",
       "      <td>1</td>\n",
       "      <td>6</td>\n",
       "      <td>0</td>\n",
       "      <td>0</td>\n",
       "      <td>0</td>\n",
       "      <td>0</td>\n",
       "      <td>19</td>\n",
       "      <td>...</td>\n",
       "      <td>1.0</td>\n",
       "      <td>0.0</td>\n",
       "      <td>1.0</td>\n",
       "      <td>0.0</td>\n",
       "      <td>0.0</td>\n",
       "      <td>0.0</td>\n",
       "      <td>0.0</td>\n",
       "      <td>0.0</td>\n",
       "      <td>0.0</td>\n",
       "      <td></td>\n",
       "    </tr>\n",
       "    <tr>\n",
       "      <th>3</th>\n",
       "      <td>b</td>\n",
       "      <td>1</td>\n",
       "      <td>3</td>\n",
       "      <td>4</td>\n",
       "      <td>6</td>\n",
       "      <td>0</td>\n",
       "      <td>1</td>\n",
       "      <td>0</td>\n",
       "      <td>1</td>\n",
       "      <td>313</td>\n",
       "      <td>...</td>\n",
       "      <td>1.0</td>\n",
       "      <td>0.0</td>\n",
       "      <td>1.0</td>\n",
       "      <td>0.0</td>\n",
       "      <td>0.0</td>\n",
       "      <td>0.0</td>\n",
       "      <td>0.0</td>\n",
       "      <td>0.0</td>\n",
       "      <td>0.0</td>\n",
       "      <td></td>\n",
       "    </tr>\n",
       "    <tr>\n",
       "      <th>4</th>\n",
       "      <td>b</td>\n",
       "      <td>1</td>\n",
       "      <td>3</td>\n",
       "      <td>3</td>\n",
       "      <td>22</td>\n",
       "      <td>0</td>\n",
       "      <td>0</td>\n",
       "      <td>0</td>\n",
       "      <td>0</td>\n",
       "      <td>313</td>\n",
       "      <td>...</td>\n",
       "      <td>1.0</td>\n",
       "      <td>1.0</td>\n",
       "      <td>0.0</td>\n",
       "      <td>0.0</td>\n",
       "      <td>0.0</td>\n",
       "      <td>0.0</td>\n",
       "      <td>0.0</td>\n",
       "      <td>1.0</td>\n",
       "      <td>0.0</td>\n",
       "      <td>Nonprofit</td>\n",
       "    </tr>\n",
       "  </tbody>\n",
       "</table>\n",
       "<p>5 rows × 65 columns</p>\n",
       "</div>"
      ],
      "text/plain": [
       "  id ad  education  ofjobs  yearsexp  honors  volunteer  military  empholes  \\\n",
       "0  b  1          4       2         6       0          0         0         1   \n",
       "1  b  1          3       3         6       0          1         1         0   \n",
       "2  b  1          4       1         6       0          0         0         0   \n",
       "3  b  1          3       4         6       0          1         0         1   \n",
       "4  b  1          3       3        22       0          0         0         0   \n",
       "\n",
       "   occupspecific    ...      compreq  orgreq  manuf  transcom  bankreal trade  \\\n",
       "0             17    ...          1.0     0.0    1.0       0.0       0.0   0.0   \n",
       "1            316    ...          1.0     0.0    1.0       0.0       0.0   0.0   \n",
       "2             19    ...          1.0     0.0    1.0       0.0       0.0   0.0   \n",
       "3            313    ...          1.0     0.0    1.0       0.0       0.0   0.0   \n",
       "4            313    ...          1.0     1.0    0.0       0.0       0.0   0.0   \n",
       "\n",
       "  busservice othservice  missind  ownership  \n",
       "0        0.0        0.0      0.0             \n",
       "1        0.0        0.0      0.0             \n",
       "2        0.0        0.0      0.0             \n",
       "3        0.0        0.0      0.0             \n",
       "4        0.0        1.0      0.0  Nonprofit  \n",
       "\n",
       "[5 rows x 65 columns]"
      ]
     },
     "execution_count": 7,
     "metadata": {},
     "output_type": "execute_result"
    }
   ],
   "source": [
    "data.head()"
   ]
  },
  {
   "cell_type": "markdown",
   "metadata": {
    "collapsed": true
   },
   "source": [
    "<div class=\"span5 alert alert-success\">\n",
    "<p>Your answers to Q1 and Q2 here</p>\n",
    "</div>"
   ]
  },
  {
   "cell_type": "markdown",
   "metadata": {},
   "source": [
    "From the analysis below we can see that the proportion of callbacks is 8.0% overall, but 9.65% for whites and 6.45% for blacks.\n",
    "\n",
    "The conventional wisdom is that the Central Limit Theorem may be applied with a sample size of 30 or more for a symmettric distibution, and a sample size of 300 or more for a very heavily skewed distribution. \n",
    "Since our sample sizes are each in the thousands, this condition is clearly satified. \n",
    "\n",
    "The Null Hypothesis is always that \"nothing is going on\", and therefore that the proportion of callbacks for the White and Black groups are identical. A single \"pooled\" proportion is therefore calculated, and the observed difference in sample means (9.65% - 6.45%) is divided by the standard error of the difference ion means, computed also using the pooled proportion of 8.0%.\n",
    "This standard error (SE) of the difference in sample means may be computed as: (0.08*0.92/2435 + 0.08*0.92/2435)**0.5, \n",
    "which is equal to 0.0077.\n",
    "\n",
    "The derived z-score is therfore 4.11. It is helpful for me personally (as a former statistician) to make the computation the long way as with the various packages the exact methodology is somewhat ambigous and hence a basis of comparison, and a form of crosscheck is provided.In fact both packages (statsmodels and scipy.stats) generate the same z-score, so that appears to be confirmatory of the methodology employed. \n",
    "\n",
    "The 99% confidence interval is 0.08 +/- 2.33 * SE, so \n",
    "\n",
    "The Alternative hypothesis is that there is discrimination. Intuitively, this should be a one-tailed test (namely that \n",
    "the call back proportion for whites exceeds that for blacks."
   ]
  },
  {
   "cell_type": "code",
   "execution_count": null,
   "metadata": {},
   "outputs": [],
   "source": [
    "# Your solution to Q3 here\n"
   ]
  },
  {
   "cell_type": "code",
   "execution_count": 39,
   "metadata": {
    "collapsed": true
   },
   "outputs": [
    {
     "data": {
      "text/plain": [
       "(2435, 2435, 4770    0.0\n",
       " 4772    0.0\n",
       " 4775    0.0\n",
       " 4776    0.0\n",
       " 4778    0.0\n",
       " 4779    0.0\n",
       " 4782    1.0\n",
       " 4784    0.0\n",
       " 4785    0.0\n",
       " 4788    1.0\n",
       " 4790    0.0\n",
       " 4791    0.0\n",
       " 4794    0.0\n",
       " 4797    0.0\n",
       " 4798    0.0\n",
       " 4799    0.0\n",
       " 4802    0.0\n",
       " 4803    0.0\n",
       " 4809    0.0\n",
       " 4810    0.0\n",
       " 4811    0.0\n",
       " 4813    0.0\n",
       " 4814    0.0\n",
       " 4816    0.0\n",
       " 4817    0.0\n",
       " 4819    0.0\n",
       " 4822    0.0\n",
       " 4824    0.0\n",
       " 4826    1.0\n",
       " 4829    1.0\n",
       " 4830    0.0\n",
       " 4831    0.0\n",
       " 4834    0.0\n",
       " 4836    0.0\n",
       " 4838    0.0\n",
       " 4839    0.0\n",
       " 4843    1.0\n",
       " 4845    0.0\n",
       " 4846    1.0\n",
       " 4847    1.0\n",
       " 4851    0.0\n",
       " 4852    0.0\n",
       " 4854    0.0\n",
       " 4855    0.0\n",
       " 4860    0.0\n",
       " 4861    1.0\n",
       " 4862    0.0\n",
       " 4863    0.0\n",
       " 4867    0.0\n",
       " 4869    0.0\n",
       " Name: call, dtype: float32, 4771    0.0\n",
       " 4773    0.0\n",
       " 4774    0.0\n",
       " 4777    0.0\n",
       " 4780    0.0\n",
       " 4781    0.0\n",
       " 4783    1.0\n",
       " 4786    0.0\n",
       " 4787    0.0\n",
       " 4789    0.0\n",
       " 4792    0.0\n",
       " 4793    0.0\n",
       " 4795    0.0\n",
       " 4796    0.0\n",
       " 4800    0.0\n",
       " 4801    0.0\n",
       " 4804    0.0\n",
       " 4805    0.0\n",
       " 4806    0.0\n",
       " 4807    0.0\n",
       " 4808    0.0\n",
       " 4812    0.0\n",
       " 4815    0.0\n",
       " 4818    0.0\n",
       " 4820    0.0\n",
       " 4821    0.0\n",
       " 4823    0.0\n",
       " 4825    0.0\n",
       " 4827    0.0\n",
       " 4828    0.0\n",
       " 4832    0.0\n",
       " 4833    0.0\n",
       " 4835    0.0\n",
       " 4837    0.0\n",
       " 4840    0.0\n",
       " 4841    0.0\n",
       " 4842    0.0\n",
       " 4844    0.0\n",
       " 4848    1.0\n",
       " 4849    0.0\n",
       " 4850    0.0\n",
       " 4853    0.0\n",
       " 4856    0.0\n",
       " 4857    0.0\n",
       " 4858    0.0\n",
       " 4859    1.0\n",
       " 4864    0.0\n",
       " 4865    0.0\n",
       " 4866    0.0\n",
       " 4868    0.0\n",
       " Name: call, dtype: float32)"
      ]
     },
     "execution_count": 39,
     "metadata": {},
     "output_type": "execute_result"
    }
   ],
   "source": [
    "w = data[data.race=='w']\n",
    "b = data[data.race=='b']\n",
    "len(w), len(b), w['call'].tail(50), b['call'].tail(50)# shows the sample sizes are each 2,435: we check data with Tail()\n"
   ]
  },
  {
   "cell_type": "code",
   "execution_count": 23,
   "metadata": {},
   "outputs": [
    {
     "data": {
      "text/plain": [
       "(0.09650924024640657, 0.06447638603696099, 0.08049281314168377)"
      ]
     },
     "execution_count": 23,
     "metadata": {},
     "output_type": "execute_result"
    }
   ],
   "source": [
    "w_callback_prop= sum(data[data.race=='w'].call)/len(w)\n",
    "b_callback_prop= sum(data[data.race=='b'].call)/len(b)\n",
    "overall_callback_prop= (sum(data[data.race=='w'].call) + sum(data[data.race=='b'].call))/(len(w)+len(b))\n",
    "\n",
    "w_callback_prop, b_callback_prop, overall_callback_prop"
   ]
  },
  {
   "cell_type": "markdown",
   "metadata": {},
   "source": []
  },
  {
   "cell_type": "code",
   "execution_count": 57,
   "metadata": {},
   "outputs": [
    {
     "data": {
      "text/plain": [
       "0.007775072049819011"
      ]
     },
     "execution_count": 57,
     "metadata": {},
     "output_type": "execute_result"
    }
   ],
   "source": [
    "# the standard error of the difference in sample means is the square root of the sum of their variances\n",
    "# (assuming that the two samples are independent)\n",
    "SE=  (0.08*0.92/2435 + 0.08*0.92/2435)**0.5  \n",
    "SE\n",
    "z_value= (0.0965-0.0645)/SE\n",
    "z_value\n",
    "SE"
   ]
  },
  {
   "cell_type": "code",
   "execution_count": 60,
   "metadata": {},
   "outputs": [
    {
     "data": {
      "text/plain": [
       "(0.06525367192403851, 0.09573195435932903)"
      ]
     },
     "execution_count": 60,
     "metadata": {},
     "output_type": "execute_result"
    }
   ],
   "source": [
    "SE # equal to 0.0077\n",
    "# 95% Confidence interval derivation: \n",
    "Upper = overall_callback_prop + 1.96*SE\n",
    "Lower = overall_callback_prop - 1.96*SE\n",
    "Lower, Upper"
   ]
  },
  {
   "cell_type": "code",
   "execution_count": 55,
   "metadata": {},
   "outputs": [
    {
     "name": "stdout",
     "output_type": "stream",
     "text": [
      "0.000040\n"
     ]
    }
   ],
   "source": [
    "# Derivation of P-value using the statsmodels package\n",
    "import numpy as np\n",
    "from statsmodels.stats.proportion import proportions_ztest\n",
    "counts = np.array([sum(data[data.race=='w'].call), sum(data[data.race=='b'].call)])       \n",
    "                    \n",
    "n_obs = np.array([len(w), len(b)])\n",
    "counts,n_obs   \n",
    "                \n",
    "stat, pval = proportions_ztest(counts, n_obs)\n",
    "print('{0:0.6f}'.format(pval))"
   ]
  },
  {
   "cell_type": "code",
   "execution_count": 56,
   "metadata": {},
   "outputs": [
    {
     "data": {
      "text/plain": [
       "Ttest_indResult(statistic=4.1147052908617514, pvalue=3.9408021031288859e-05)"
      ]
     },
     "execution_count": 56,
     "metadata": {},
     "output_type": "execute_result"
    }
   ],
   "source": [
    "# Derivation of P-value using the scipy.stats package\n",
    "from scipy.stats import ttest_ind\n",
    "# cat1 = my_data[my_data['Category']=='cat1']\n",
    "# cat2 = my_data[my_data['Category']=='cat2']\n",
    "ttest_ind(w['call'], b['call'])\n"
   ]
  },
  {
   "cell_type": "code",
   "execution_count": 61,
   "metadata": {},
   "outputs": [],
   "source": [
    "# Bootstrap Approach\n",
    "# draw_bs_reps()\n",
    "def draw_bs_reps(data, func, size=1):\n",
    "    \"\"\"Draw bootstrap replicates.\"\"\"\n",
    "    return func(np.random.choice(data,size=len(data)))\n",
    "    # Initialize array of replicates: bs_replicates\n",
    "    bs_replicates = np.empty(size)\n",
    "\n",
    "    # Generate replicates\n",
    "    for i in range(size):\n",
    "        bs_replicates[i] = bootstrap_replicate_1d(data, func)\n",
    "    return bs_replicates"
   ]
  },
  {
   "cell_type": "code",
   "execution_count": 65,
   "metadata": {},
   "outputs": [
    {
     "name": "stdout",
     "output_type": "stream",
     "text": [
      "('p-value =', 0)\n"
     ]
    }
   ],
   "source": [
    "white = w['call']\n",
    "black = b['call']\n",
    "call_concat= np.concatenate((white, black))\n",
    "mean_call = np.mean(call_concat)  # Compute mean for all callbacks\n",
    "empirical_diff_means = np.mean(white) - np.mean(black)\n",
    "w_shifted = white - np.mean(white) + mean_call  # Generate shifted arrays\n",
    "b_shifted = black - np.mean(black) + mean_call\n",
    "bs_replicates_white = draw_bs_reps(w_shifted, np.mean, size=10000)#Compute 10000 bootstrap replicates from shifted arrays\n",
    "bs_replicates_black = draw_bs_reps(b_shifted, np.mean, size=10000)\n",
    "bs_replicates = bs_replicates_white - bs_replicates_black   # Get replicates of difference of means: bs_replicates\n",
    "\n",
    "p = np.sum(bs_replicates > empirical_diff_means) /10000 # len(bs_replicates) # Compute and print p-value: p\n",
    "print('p-value =', p) # From which we note that with the Bootstrap approach the P-value is also essentially zero."
   ]
  },
  {
   "cell_type": "markdown",
   "metadata": {},
   "source": [
    "Your answers to Q4 and Q5 here "
   ]
  },
  {
   "cell_type": "markdown",
   "metadata": {},
   "source": [
    "The statistical significance of the race/name variable was investigated using two statistical packages, and \n",
    "also by a formal calculation following conventional statistical methodologies.\n",
    "The same z-score (of 4.11) and P-value (of 0.00004) was obtained in each case. \n",
    "The Bootstrap methodology was also applied, and yielded a P-value of essentially zero."
   ]
  },
  {
   "cell_type": "markdown",
   "metadata": {},
   "source": [
    "Accordingly, one may infer that in this study, race had a statistically significant impact on the rate of callbacks \n",
    "for resumes. "
   ]
  },
  {
   "cell_type": "markdown",
   "metadata": {},
   "source": [
    "This analysis does NOT in itself prove that race/name is the most important factor in callback success (although it is clearly a highly statistically significant factor). \n",
    "The correct way to investigate this would be to build a Classification Model with the target variable being 'callback', for example using logistic regression. The t-value for the 'race' variable could then be compared to the t-value for other parameters, in order to make a direct assessment of relative statistical significance. "
   ]
  },
  {
   "cell_type": "markdown",
   "metadata": {},
   "source": [
    "<div class=\"span5 alert alert-success\">\n",
    "<p> Your answers to Q4 and Q5 here </p>\n",
    "</div>"
   ]
  },
  {
   "cell_type": "markdown",
   "metadata": {
    "collapsed": true
   },
   "source": [
    "\n"
   ]
  },
  {
   "cell_type": "markdown",
   "metadata": {},
   "source": []
  }
 ],
 "metadata": {
  "kernelspec": {
   "display_name": "Python 2",
   "language": "python",
   "name": "python2"
  },
  "language_info": {
   "codemirror_mode": {
    "name": "ipython",
    "version": 2
   },
   "file_extension": ".py",
   "mimetype": "text/x-python",
   "name": "python",
   "nbconvert_exporter": "python",
   "pygments_lexer": "ipython2",
   "version": "2.7.14"
  }
 },
 "nbformat": 4,
 "nbformat_minor": 1
}
